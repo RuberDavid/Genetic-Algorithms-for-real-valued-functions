{
 "cells": [
  {
   "cell_type": "markdown",
   "id": "b58e8176-63bb-409b-876d-12ddcbf0390a",
   "metadata": {},
   "source": [
    "# Optimización de funciones de prueba mediante algorítmos genéticos"
   ]
  },
  {
   "cell_type": "code",
   "execution_count": 4,
   "id": "014def83",
   "metadata": {},
   "outputs": [],
   "source": [
    "import random\n",
    "import numpy as np\n",
    "from binaryga import * # implementación de algoritmos genéticos\n",
    "import matplotlib.pyplot as plt\n",
    "from mainga import bincode_ga\n",
    "import testfunctions\n",
    "from math import *\n",
    "%matplotlib inline"
   ]
  },
  {
   "cell_type": "code",
   "execution_count": 5,
   "id": "c05181fd",
   "metadata": {},
   "outputs": [],
   "source": [
    "func_obj = testfunctions.rastring\n",
    "parametros = { \"precis\": 4,\n",
    "                   \"lim_inf\": func_obj.vars_range[0],\n",
    "                   'lim_sup': func_obj.vars_range[1],\n",
    "                   'num_vars': 2,\n",
    "                   'test_function': func_obj,\n",
    "                   'size_population': 150,\n",
    "                   'p_crosover': 0.5,\n",
    "                   'p_mutation': 0.2,\n",
    "                   'max_num_generations': 200,\n",
    "                   'len_elite': 0 ,\n",
    "                   'tol_time': None,\n",
    "                   'plotting': False\n",
    "                   }\n",
    "\n",
    "last_generation, \\\n",
    "    worst_apt_per_generation, \\\n",
    "    mean_apt_per_generation, \\\n",
    "    best_apt_per_generation = bincode_ga(**parametros)\n"
   ]
  },
  {
   "cell_type": "code",
   "execution_count": 6,
   "id": "2625f9a3-998d-4bdc-99d0-53a4501af640",
   "metadata": {},
   "outputs": [
    {
     "data": {
      "image/png": "[encoded data removed]",
      "text/plain": [
       "<Figure size 432x288 with 1 Axes>"
      ]
     },
     "metadata": {
      "needs_background": "light"
     },
     "output_type": "display_data"
    }
   ],
   "source": [
    "plt.plot(best_apt_per_generation, color='red')\n",
    "plt.plot(mean_apt_per_generation, color='blue')\n",
    "plt.plot(worst_apt_per_generation, color='green')\n",
    "plt.xlabel('Generation')\n",
    "plt.ylabel('Max/Average/Worst Fitness')\n",
    "plt.title('Fitness over Generations')\n",
    "plt.show()"
   ]
  },
  {
   "cell_type": "code",
   "execution_count": 23,
   "id": "14fc7b1e-8894-4374-b7e1-8f7f8f705e4d",
   "metadata": {},
   "outputs": [
    {
     "data": {
      "text/plain": [
       "[6.054538417288313e-07,\n",
       " 6.054538417288313e-07,\n",
       " 6.054538417288313e-07,\n",
       " 6.054538417288313e-07,\n",
       " 6.054538417288313e-07,\n",
       " 6.054538417288313e-07,\n",
       " 6.054538417288313e-07,\n",
       " 6.054538417288313e-07,\n",
       " 6.054538417288313e-07,\n",
       " 6.054538417288313e-07]"
      ]
     },
     "execution_count": 23,
     "metadata": {},
     "output_type": "execute_result"
    }
   ],
   "source": [
    "last_generation.sort(key=lambda x : x.val )\n",
    "[ind.val for ind in last_generation][:10]"
   ]
  },
  {
   "cell_type": "markdown",
   "id": "ae687e0f-1b12-4763-94a8-83ac7901f4f2",
   "metadata": {},
   "source": [
    "# gráfica de población"
   ]
  },
  {
   "cell_type": "code",
   "execution_count": 8,
   "id": "f1b901f6-4df5-4c55-b989-bf01e4293a98",
   "metadata": {},
   "outputs": [
    {
     "data": {
      "text/plain": [
       "<matplotlib.collections.PathCollection at 0x7effd3c8f160>"
      ]
     },
     "execution_count": 8,
     "metadata": {},
     "output_type": "execute_result"
    },
    {
     "data": {
      "image/png": "[encoded data removed]",
      "text/plain": [
       "<Figure size 432x288 with 1 Axes>"
      ]
     },
     "metadata": {
      "needs_background": "light"
     },
     "output_type": "display_data"
    }
   ],
   "source": [
    "plt.figure(1)\n",
    "globalMinima = func_obj.minima\n",
    "phenotype_last_gen = [ind.fenotipo for ind in last_generation]\n",
    "plt.scatter(*zip(*globalMinima), marker='X', color='red',zorder=1)\n",
    "plt.scatter(*zip(*phenotype_last_gen), marker='.', color='blue',zorder=0)"
   ]
  },
  {
   "cell_type": "code",
   "execution_count": 24,
   "id": "32d021fa-7a3d-40ae-80c5-9c3ceb45fb62",
   "metadata": {},
   "outputs": [
    {
     "ename": "ValueError",
     "evalue": "The truth value of an array with more than one element is ambiguous. Use a.any() or a.all()",
     "output_type": "error",
     "traceback": [
      "\u001b[0;31m---------------------------------------------------------------------------\u001b[0m",
      "\u001b[0;31mValueError\u001b[0m                                Traceback (most recent call last)",
      "\u001b[0;32m/tmp/ipykernel_33977/1371076364.py\u001b[0m in \u001b[0;36m<module>\u001b[0;34m\u001b[0m\n\u001b[1;32m      6\u001b[0m \u001b[0mplt\u001b[0m\u001b[0;34m.\u001b[0m\u001b[0maxes\u001b[0m\u001b[0;34m(\u001b[0m\u001b[0;34m[\u001b[0m\u001b[0;36m0.025\u001b[0m\u001b[0;34m,\u001b[0m \u001b[0;36m0.025\u001b[0m\u001b[0;34m,\u001b[0m \u001b[0;36m0.95\u001b[0m\u001b[0;34m,\u001b[0m \u001b[0;36m0.95\u001b[0m\u001b[0;34m]\u001b[0m\u001b[0;34m)\u001b[0m\u001b[0;34m\u001b[0m\u001b[0;34m\u001b[0m\u001b[0m\n\u001b[1;32m      7\u001b[0m \u001b[0;34m\u001b[0m\u001b[0m\n\u001b[0;32m----> 8\u001b[0;31m \u001b[0mplt\u001b[0m\u001b[0;34m.\u001b[0m\u001b[0mcontourf\u001b[0m\u001b[0;34m(\u001b[0m\u001b[0mX\u001b[0m\u001b[0;34m,\u001b[0m \u001b[0mY\u001b[0m\u001b[0;34m,\u001b[0m \u001b[0mfunc_obj\u001b[0m\u001b[0;34m(\u001b[0m\u001b[0mX\u001b[0m\u001b[0;34m,\u001b[0m\u001b[0mY\u001b[0m\u001b[0;34m)\u001b[0m\u001b[0;34m,\u001b[0m \u001b[0;36m8\u001b[0m\u001b[0;34m,\u001b[0m \u001b[0malpha\u001b[0m\u001b[0;34m=\u001b[0m\u001b[0;36m.75\u001b[0m\u001b[0;34m,\u001b[0m \u001b[0mcmap\u001b[0m\u001b[0;34m=\u001b[0m\u001b[0mplt\u001b[0m\u001b[0;34m.\u001b[0m\u001b[0mcm\u001b[0m\u001b[0;34m.\u001b[0m\u001b[0mhot\u001b[0m\u001b[0;34m)\u001b[0m\u001b[0;34m\u001b[0m\u001b[0;34m\u001b[0m\u001b[0m\n\u001b[0m\u001b[1;32m      9\u001b[0m \u001b[0mC\u001b[0m \u001b[0;34m=\u001b[0m \u001b[0mplt\u001b[0m\u001b[0;34m.\u001b[0m\u001b[0mcontour\u001b[0m\u001b[0;34m(\u001b[0m\u001b[0mX\u001b[0m\u001b[0;34m,\u001b[0m \u001b[0mY\u001b[0m\u001b[0;34m,\u001b[0m \u001b[0mfunc_obj\u001b[0m\u001b[0;34m(\u001b[0m\u001b[0mX\u001b[0m\u001b[0;34m,\u001b[0m\u001b[0mY\u001b[0m\u001b[0;34m)\u001b[0m\u001b[0;34m,\u001b[0m \u001b[0;36m8\u001b[0m\u001b[0;34m,\u001b[0m \u001b[0mcolors\u001b[0m\u001b[0;34m=\u001b[0m\u001b[0;34m'black'\u001b[0m\u001b[0;34m,\u001b[0m \u001b[0mlinewidth\u001b[0m\u001b[0;34m=\u001b[0m\u001b[0;36m.5\u001b[0m\u001b[0;34m)\u001b[0m\u001b[0;34m\u001b[0m\u001b[0;34m\u001b[0m\u001b[0m\n\u001b[1;32m     10\u001b[0m \u001b[0mplt\u001b[0m\u001b[0;34m.\u001b[0m\u001b[0mclabel\u001b[0m\u001b[0;34m(\u001b[0m\u001b[0mC\u001b[0m\u001b[0;34m,\u001b[0m \u001b[0minline\u001b[0m\u001b[0;34m=\u001b[0m\u001b[0;36m1\u001b[0m\u001b[0;34m,\u001b[0m \u001b[0mfontsize\u001b[0m\u001b[0;34m=\u001b[0m\u001b[0;36m10\u001b[0m\u001b[0;34m)\u001b[0m\u001b[0;34m\u001b[0m\u001b[0;34m\u001b[0m\u001b[0m\n",
      "\u001b[0;32m~/Servicio/Test Functions/testfunctions.py\u001b[0m in \u001b[0;36mrastring\u001b[0;34m(*args)\u001b[0m\n\u001b[1;32m      7\u001b[0m     \u001b[0mfunción\u001b[0m \u001b[0mRastring\u001b[0m \u001b[0mpara\u001b[0m \u001b[0mn\u001b[0m \u001b[0mvariables\u001b[0m\u001b[0;34m\u001b[0m\u001b[0;34m\u001b[0m\u001b[0m\n\u001b[1;32m      8\u001b[0m     '''\n\u001b[0;32m----> 9\u001b[0;31m     \u001b[0;32mif\u001b[0m \u001b[0;32mnot\u001b[0m \u001b[0mall\u001b[0m\u001b[0;34m(\u001b[0m \u001b[0;34m[\u001b[0m \u001b[0mabs\u001b[0m\u001b[0;34m(\u001b[0m \u001b[0mx_i\u001b[0m\u001b[0;34m)\u001b[0m \u001b[0;34m<=\u001b[0m \u001b[0;36m5.12\u001b[0m \u001b[0;32mfor\u001b[0m \u001b[0mx_i\u001b[0m \u001b[0;32min\u001b[0m \u001b[0margs\u001b[0m \u001b[0;34m]\u001b[0m \u001b[0;34m)\u001b[0m\u001b[0;34m:\u001b[0m\u001b[0;31m# TODO : cambiar esta intefaz\u001b[0m\u001b[0;34m\u001b[0m\u001b[0;34m\u001b[0m\u001b[0m\n\u001b[0m\u001b[1;32m     10\u001b[0m         \u001b[0;32mraise\u001b[0m \u001b[0mValueError\u001b[0m\u001b[0;34m(\u001b[0m\u001b[0;34m'all x_i should be in [-5.12, 5.12]'\u001b[0m\u001b[0;34m)\u001b[0m\u001b[0;34m\u001b[0m\u001b[0;34m\u001b[0m\u001b[0m\n\u001b[1;32m     11\u001b[0m     \u001b[0mA\u001b[0m \u001b[0;34m=\u001b[0m \u001b[0;36m10\u001b[0m\u001b[0;34m\u001b[0m\u001b[0;34m\u001b[0m\u001b[0m\n",
      "\u001b[0;31mValueError\u001b[0m: The truth value of an array with more than one element is ambiguous. Use a.any() or a.all()"
     ]
    },
    {
     "data": {
      "image/png": "[encoded data removed]",
      "text/plain": [
       "<Figure size 432x288 with 1 Axes>"
      ]
     },
     "metadata": {
      "needs_background": "light"
     },
     "output_type": "display_data"
    }
   ],
   "source": [
    "\n",
    "n = 256\n",
    "x = [ind.fenotipo[0] for ind in last_generation]\n",
    "y = [ind.fenotipo[1] for ind in last_generation]\n",
    "X,Y = np.meshgrid(x, y)\n",
    "\n",
    "plt.axes([0.025, 0.025, 0.95, 0.95])\n",
    "\n",
    "plt.contourf(X, Y, func_obj(X,Y), 8, alpha=.75, cmap=plt.cm.hot)\n",
    "C = plt.contour(X, Y, func_obj(X,Y), 8, colors='black', linewidth=.5)\n",
    "plt.clabel(C, inline=1, fontsize=10)\n",
    "\n",
    "plt.xticks([])\n",
    "plt.yticks([])\n",
    "plt.show()\n"
   ]
  },
  {
   "cell_type": "code",
   "execution_count": 26,
   "id": "d192e025-5bbc-4498-9e18-7ea39b9f4c13",
   "metadata": {},
   "outputs": [
    {
     "data": {
      "text/plain": [
       "(150, 150)"
      ]
     },
     "execution_count": 26,
     "metadata": {},
     "output_type": "execute_result"
    }
   ],
   "source": [
    "X.shape"
   ]
  },
  {
   "cell_type": "markdown",
   "id": "5d393805-78f7-4a84-93be-b1bdce5bbf19",
   "metadata": {
    "tags": []
   },
   "source": [
    "## Función de Rastring \n",
    "$$ f(\\mathbf{x}) = A n + \\sum_{i=1}^n \\left[x_i^2 - A\\cos(2 \\pi x_i)\\right]$$\n",
    "$$ \\text{where: }  A=10 $$\n",
    "\n",
    "**Mínimo global**\n",
    "$ f(0, \\dots, 0) = 0f(0, \\dots, 0) = 0$\n",
    "\n",
    "**Espacio de búsqueda**\n",
    "$ -5.12\\le x_{i} \\le 5.12 -5.12\\le x_{i} \\le 5.12 $"
   ]
  },
  {
   "cell_type": "code",
   "execution_count": 10,
   "id": "87d3b1ba-a83e-4d23-b1eb-e1eafb8badb0",
   "metadata": {},
   "outputs": [],
   "source": [
    "def rastring(*args)->float:\n",
    "    '''\n",
    "    función Rastring para n variables\n",
    "    '''\n",
    "    A = 10\n",
    "    n = len(args)\n",
    "    return A*n + fsum([x_i**2 - A*cos(2*pi*x_i) for x_i in args ]) \n",
    "\n",
    "rastring.minima=[ (0,0) ] # TODO: definir para mayor dimensión\n",
    "rastring.b_low, rastring.b_up = -5.12, 5.12\n"
   ]
  },
  {
   "cell_type": "code",
   "execution_count": 11,
   "id": "18f6dc9b-272c-4a51-a8a6-93506e90672a",
   "metadata": {},
   "outputs": [
    {
     "ename": "TypeError",
     "evalue": "'float' object cannot be interpreted as an integer",
     "output_type": "error",
     "traceback": [
      "\u001b[0;31m---------------------------------------------------------------------------\u001b[0m",
      "\u001b[0;31mTypeError\u001b[0m                                 Traceback (most recent call last)",
      "\u001b[0;32m/tmp/ipykernel_47708/2324116847.py\u001b[0m in \u001b[0;36m<module>\u001b[0;34m\u001b[0m\n\u001b[0;32m----> 1\u001b[0;31m \u001b[0mP\u001b[0m \u001b[0;34m=\u001b[0m\u001b[0mnp\u001b[0m\u001b[0;34m.\u001b[0m\u001b[0marray\u001b[0m\u001b[0;34m(\u001b[0m\u001b[0mnp\u001b[0m\u001b[0;34m.\u001b[0m\u001b[0mlinspace\u001b[0m\u001b[0;34m(\u001b[0m\u001b[0;34m-\u001b[0m\u001b[0;36m5.12\u001b[0m\u001b[0;34m,\u001b[0m\u001b[0;36m5.12\u001b[0m\u001b[0;34m,\u001b[0m\u001b[0;36m100\u001b[0m\u001b[0;34m)\u001b[0m\u001b[0;34m,\u001b[0m\u001b[0mnp\u001b[0m\u001b[0;34m.\u001b[0m\u001b[0mlinspace\u001b[0m\u001b[0;34m(\u001b[0m\u001b[0;34m-\u001b[0m\u001b[0;36m5\u001b[0m\u001b[0;34m,\u001b[0m\u001b[0;36m12\u001b[0m\u001b[0;34m,\u001b[0m\u001b[0;36m5.12\u001b[0m\u001b[0;34m,\u001b[0m\u001b[0;36m100\u001b[0m\u001b[0;34m)\u001b[0m\u001b[0;34m)\u001b[0m\u001b[0;34m\u001b[0m\u001b[0;34m\u001b[0m\u001b[0m\n\u001b[0m",
      "\u001b[0;32m<__array_function__ internals>\u001b[0m in \u001b[0;36mlinspace\u001b[0;34m(*args, **kwargs)\u001b[0m\n",
      "\u001b[0;32m/usr/lib/python3/dist-packages/numpy/core/function_base.py\u001b[0m in \u001b[0;36mlinspace\u001b[0;34m(start, stop, num, endpoint, retstep, dtype, axis)\u001b[0m\n\u001b[1;32m    118\u001b[0m \u001b[0;34m\u001b[0m\u001b[0m\n\u001b[1;32m    119\u001b[0m     \"\"\"\n\u001b[0;32m--> 120\u001b[0;31m     \u001b[0mnum\u001b[0m \u001b[0;34m=\u001b[0m \u001b[0moperator\u001b[0m\u001b[0;34m.\u001b[0m\u001b[0mindex\u001b[0m\u001b[0;34m(\u001b[0m\u001b[0mnum\u001b[0m\u001b[0;34m)\u001b[0m\u001b[0;34m\u001b[0m\u001b[0;34m\u001b[0m\u001b[0m\n\u001b[0m\u001b[1;32m    121\u001b[0m     \u001b[0;32mif\u001b[0m \u001b[0mnum\u001b[0m \u001b[0;34m<\u001b[0m \u001b[0;36m0\u001b[0m\u001b[0;34m:\u001b[0m\u001b[0;34m\u001b[0m\u001b[0;34m\u001b[0m\u001b[0m\n\u001b[1;32m    122\u001b[0m         \u001b[0;32mraise\u001b[0m \u001b[0mValueError\u001b[0m\u001b[0;34m(\u001b[0m\u001b[0;34m\"Number of samples, %s, must be non-negative.\"\u001b[0m \u001b[0;34m%\u001b[0m \u001b[0mnum\u001b[0m\u001b[0;34m)\u001b[0m\u001b[0;34m\u001b[0m\u001b[0;34m\u001b[0m\u001b[0m\n",
      "\u001b[0;31mTypeError\u001b[0m: 'float' object cannot be interpreted as an integer"
     ]
    }
   ],
   "source": [
    "P =np.array(np.linspace(-5.12,5.12,100),np.linspace(-5,12,5.12,100))\n"
   ]
  },
  {
   "cell_type": "code",
   "execution_count": 9,
   "id": "58c53af3-3158-483c-83a8-1af057c8b1fc",
   "metadata": {},
   "outputs": [],
   "source": [
    "BOUND_LOW, BOUND_UP = -5.12, 5.12"
   ]
  },
  {
   "cell_type": "markdown",
   "id": "ae85a2e8-dae4-407b-832c-a9633d01e44e",
   "metadata": {},
   "source": [
    "### Dos variables"
   ]
  },
  {
   "cell_type": "code",
   "execution_count": 30,
   "id": "ae1d8d15-9366-45f1-ae0f-2bd5bfb29252",
   "metadata": {},
   "outputs": [],
   "source": [
    "DIMENSIONS = 2"
   ]
  },
  {
   "cell_type": "code",
   "execution_count": null,
   "id": "ee35ed9a-5ba9-4d0e-afe2-663fbd59f235",
   "metadata": {},
   "outputs": [],
   "source": [
    "## "
   ]
  },
  {
   "cell_type": "markdown",
   "id": "11114db7-4678-44d4-a521-2f6a55c0c1e6",
   "metadata": {},
   "source": [
    "### Cinco variables"
   ]
  },
  {
   "cell_type": "markdown",
   "id": "4c47b131-765f-4f0d-a14e-a4ec4150588a",
   "metadata": {},
   "source": [
    "### $n$-variables"
   ]
  },
  {
   "cell_type": "markdown",
   "id": "35694eb1-7912-4eb7-a5e7-97358a7ace24",
   "metadata": {},
   "source": [
    "## Función Rosenbrock\n",
    "$$f(\\boldsymbol{x}) = \\sum_{i=1}^{n-1} \\left[ 100 \\left(x_{i+1} - x_{i}^{2}\\right)^{2} + \\left(1 - x_{i}\\right)^{2}\\right]$$\n",
    "**Mínimo Global**\n",
    "\n",
    "$\\text{Min} =\n",
    "\\begin{cases}\n",
    "n=2 & \\rightarrow \\quad f(1,1) = 0, \\\\\n",
    "n=3 & \\rightarrow \\quad f(1,1,1) = 0, \\\\\n",
    "n>3 & \\rightarrow \\quad f(\\underbrace{1,\\dots,1}_{n \\text{ times}}) = 0 \\\\\n",
    "\\end{cases}\\text{Min} =\n",
    "\\begin{cases}\n",
    "n=2 & \\rightarrow \\quad f(1,1) = 0, \\\\\n",
    "n=3 & \\rightarrow \\quad f(1,1,1) = 0, \\\\\n",
    "n>3 & \\rightarrow \\quad f(\\underbrace{1,\\dots,1}_{n \\text{ times}}) = 0 \\\\\n",
    "\\end{cases}$\n",
    "\n",
    "**Espacio de Búsqueda**\n",
    "\n"
   ]
  },
  {
   "cell_type": "code",
   "execution_count": 21,
   "id": "3a56ef2f-a627-4fb7-83d8-c23ad7430a03",
   "metadata": {},
   "outputs": [],
   "source": [
    "def rosenbrock(*args):\n",
    "    x = args\n",
    "    if not all([ abs(x_i) <= 5 for x_i in x ]):\n",
    "        raise ValueError\n",
    "    return fsum([100*(x[i+1] - x[i]**2)**2 + (1-x[i])**2 for i in range(len(x)-1) ] )\n",
    "\n",
    "rosenbrock.minima = [ (1,1) ]"
   ]
  },
  {
   "cell_type": "markdown",
   "id": "874448e6-1144-4832-9f87-7d4061337b85",
   "metadata": {},
   "source": [
    "## Función de Himmelblau\n",
    "$$ f(x, y) = (x^2+y-11)^2 + (x+y^2-7)^2.\\quad $$\n",
    "\n",
    "**Mínimo global:**\n",
    "\n",
    "$\n",
    "\\text{Min} =\n",
    "\\begin{cases}\n",
    "      f\\left(3.0,  2.0\\right) & = 0.0 \\\\\n",
    "      f\\left(-2.805118, 3.131312\\right) & = 0.0 \\\\\n",
    "      f\\left(-3.779310, -3.283186\\right) & = 0.0 \\\\\n",
    "      f\\left(3.584428, -1.848126\\right) & = 0.0 \\\\\n",
    "\\end{cases}$\n",
    "\n",
    "**Espacio de Búsqueda:** $-5\\le x,y \\le 5$"
   ]
  },
  {
   "cell_type": "code",
   "execution_count": 15,
   "id": "e7c0d040-e3d7-4fb3-b3c4-4937743a6ac4",
   "metadata": {},
   "outputs": [],
   "source": [
    "def himmelblau(*args):\n",
    "    x,y = args[0], args[1]\n",
    "    if not (abs(x) <= 5 and abs(y) <= 5 ):\n",
    "        raise ValueError\n",
    "    return (x**2 + y - 11)**2 + (x + y**2 - 7)**2"
   ]
  },
  {
   "cell_type": "markdown",
   "id": "9e3849e8-2130-4cdf-820e-691fecdcba2d",
   "metadata": {},
   "source": [
    "## Función Eggholder\n",
    "\n",
    "$$ f(x,y) = - \\left(y+47\\right) \\sin \\sqrt{\\left|\\frac{x}{2}+\\left(y+47\\right)\\right|} - x \\sin \\sqrt{\\left|x - \\left(y + 47 \\right)\\right|} $$\n",
    "\n",
    "**Mínimo global:**\n",
    "    \n",
    "$f(512, 404.2319) = -959.6407$\n",
    "\n",
    "**Espacio de Búsqueda**\n",
    "\n",
    "$-512\\le x,y \\le 512 $"
   ]
  },
  {
   "cell_type": "code",
   "execution_count": null,
   "id": "79282baf-9163-4458-9eb5-21a99d81c5d9",
   "metadata": {},
   "outputs": [],
   "source": [
    "def eggholder(*args):\n",
    "    x,y = args[0], args[1]\n",
    "    if not (abs(x) <= 512 and abs(y) <= 512 ):\n",
    "        raise ValueError\n",
    "    return -(y+47)*sin(sqrt(abs(x/2 + (y+47))) - x*sin(sqrt(abs(x-(y+47))))"
   ]
  },
  {
   "cell_type": "code",
   "execution_count": 18,
   "id": "a28ea071-4b8b-4da7-a883-a7a21045b2fa",
   "metadata": {},
   "outputs": [
    {
     "data": {
      "text/plain": [
       "0.1411200080598672"
      ]
     },
     "execution_count": 18,
     "metadata": {},
     "output_type": "execute_result"
    }
   ],
   "source": [
    "sin(3)"
   ]
  },
  {
   "cell_type": "code",
   "execution_count": null,
   "id": "7c65ff96-cecd-4f01-b992-c521442219f2",
   "metadata": {},
   "outputs": [],
   "source": [
    "from numpy import random\n",
    "import numpy as np\n",
    "\n",
    "arr = np.array([1, 2, 3, 4, 5])\n",
    "\n",
    "print(random.permutation(arr))"
   ]
  },
  {
   "cell_type": "code",
   "execution_count": null,
   "id": "2de11c24-6ddc-4072-8c62-a256449af192",
   "metadata": {},
   "outputs": [],
   "source": [
    "num_ind = 10\n",
    "len_gen = 10\n",
    "pob = [ Individuo(rand_bin_gen( 10), rastring_2var) for i in range(num_ind) ]\n",
    "pool = torneo_sin_remplazo( pob)"
   ]
  },
  {
   "cell_type": "code",
   "execution_count": null,
   "id": "3d20eb22-2fda-4ada-a545-4c2c40b67515",
   "metadata": {},
   "outputs": [],
   "source": [
    "pool=np.random.permutation(pob)\n",
    "pool[0].val"
   ]
  },
  {
   "cell_type": "code",
   "execution_count": 5,
   "id": "e6485e33-67a3-467c-aeff-8d8db557b921",
   "metadata": {},
   "outputs": [
    {
     "data": {
      "text/plain": [
       "-0.9899924966004454"
      ]
     },
     "execution_count": 5,
     "metadata": {},
     "output_type": "execute_result"
    }
   ],
   "source": [
    "np.cos(3)"
   ]
  },
  {
   "cell_type": "code",
   "execution_count": 9,
   "id": "20619059-02f8-4d8c-a5a2-b2b12cb953bb",
   "metadata": {},
   "outputs": [
    {
     "data": {
      "text/plain": [
       "-0.9899924966004454"
      ]
     },
     "execution_count": 9,
     "metadata": {},
     "output_type": "execute_result"
    }
   ],
   "source": [
    "cos(3)\n"
   ]
  },
  {
   "cell_type": "code",
   "execution_count": null,
   "id": "3bd177a0-ec3a-4c5e-a834-f8b4ffd97451",
   "metadata": {},
   "outputs": [],
   "source": [
    "np"
   ]
  }
 ],
 "metadata": {
  "kernelspec": {
   "display_name": "Python 3 (ipykernel)",
   "language": "python",
   "name": "python3"
  },
  "language_info": {
   "codemirror_mode": {
    "name": "ipython",
    "version": 3
   },
   "file_extension": ".py",
   "mimetype": "text/x-python",
   "name": "python",
   "nbconvert_exporter": "python",
   "pygments_lexer": "ipython3",
   "version": "3.10.6"
  }
 },
 "nbformat": 4,
 "nbformat_minor": 5
}
